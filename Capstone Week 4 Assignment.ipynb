{
    "cells": [
        {
            "cell_type": "markdown",
            "metadata": {
                "collapsed": true
            },
            "source": "# Introduction\n\nOver the years a large proportion of the world\u2019s brightest, most ambitious, and driven individuals have been drawn to Manhattan. It is the largest city in the United States with a long history of international immigration. In 2018 there were 8.4 million residents and New York City's demographics show that it is a large and ethnically diverse metropolis. \n\nOver 800 languages are spoken in New York, making it the most linguistically diverse city in the world. Although English remains the most widely spoken language, there are areas in the outer boroughs in which up to 25% of people speak English as an alternate language, and/or have limited to no English language fluency. \n\nThis diversity has allowed New York to develop world class cuisine. There are many diverse restaurants throughout NYC. \n\n# The Business Problem\n\nThe Client is looking to open a Vietnamese International School in New York City. To build a school atmosphere that will provide students with comforts of home (i.e. Vietnamese food) the Client would like to find which NYC borough has the most Vietnamese restaurants. \n\nThe analysis aims to find:\n\n1.\tVisualize which areas have the most Vietnamese restaurants. \n2.\tWhat area has the most Vietnamese population?\n3.\tWhich areas lack Vietnamese restaurants? \n4.\tWhere should the Client build his international school? \n\n\n\n# The Data\n\nThis analysis will utlize the following data sources: \n\nhttps://cocl.us/new_york_dataset\nNew York City data that contains list Boroughs, Neighbourhoods along with their latitude and longitude.\n\nhttps://data.cityofnewyork.us/City-Government/Borough-Boundaries/tqmj-j8zm\nGeo space data of New York Borough boundaries that will help us visualize choropleth map.\n\nFoursquare API\nSearch/filter for Vietnamese restaurants in each neighbourhood of New York City by Foursquare API.\n\n"
        },
        {
            "cell_type": "code",
            "execution_count": null,
            "metadata": {},
            "outputs": [],
            "source": ""
        }
    ],
    "metadata": {
        "kernelspec": {
            "display_name": "Python 3.6",
            "language": "python",
            "name": "python3"
        },
        "language_info": {
            "codemirror_mode": {
                "name": "ipython",
                "version": 3
            },
            "file_extension": ".py",
            "mimetype": "text/x-python",
            "name": "python",
            "nbconvert_exporter": "python",
            "pygments_lexer": "ipython3",
            "version": "3.6.9"
        }
    },
    "nbformat": 4,
    "nbformat_minor": 1
}